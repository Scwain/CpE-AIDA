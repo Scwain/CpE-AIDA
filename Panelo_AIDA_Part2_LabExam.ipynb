{
  "nbformat": 4,
  "nbformat_minor": 0,
  "metadata": {
    "colab": {
      "provenance": [],
      "collapsed_sections": [],
      "authorship_tag": "ABX9TyPbvl18Ph7a1hSiv188+Sws",
      "include_colab_link": true
    },
    "kernelspec": {
      "name": "python3",
      "display_name": "Python 3"
    },
    "language_info": {
      "name": "python"
    }
  },
  "cells": [
    {
      "cell_type": "markdown",
      "metadata": {
        "id": "view-in-github",
        "colab_type": "text"
      },
      "source": [
        "<a href=\"https://colab.research.google.com/github/Scwain/CpE-AIDA-Lab-01/blob/main/Panelo_AIDA_Part2_LabExam.ipynb\" target=\"_parent\"><img src=\"https://colab.research.google.com/assets/colab-badge.svg\" alt=\"Open In Colab\"/></a>"
      ]
    },
    {
      "cell_type": "markdown",
      "source": [
        "<h1> Part 2: Linear Algebra Review</h1>\n",
        "<h3> Identify whether Matrix A is linearly dependent or independent. Provide necessary formal or mathematical proof for your claims </h3>\n",
        "\n",
        "\n",
        "![image.png](data:image/png;base64,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)\n"
      ],
      "metadata": {
        "id": "j78IEMof76qm"
      }
    },
    {
      "cell_type": "code",
      "execution_count": 42,
      "metadata": {
        "id": "iyzA78WfmRG0"
      },
      "outputs": [],
      "source": [
        "import numpy as np\n",
        "import sympy"
      ]
    },
    {
      "cell_type": "code",
      "source": [
        "Mat_A = np.array([\n",
        "    [1,-2,-1],\n",
        "    [-0.5,1,0.5],\n",
        "    [1,-2,1]\n",
        "]) \n",
        "_, M = sympy.Matrix(Mat_A).T.rref()\n",
        "M"
      ],
      "metadata": {
        "colab": {
          "base_uri": "https://localhost:8080/"
        },
        "id": "qqzn2AkeYEPe",
        "outputId": "19e41847-cfa3-4f2f-d60a-9474bf188352"
      },
      "execution_count": 64,
      "outputs": [
        {
          "output_type": "execute_result",
          "data": {
            "text/plain": [
              "(0, 2)"
            ]
          },
          "metadata": {},
          "execution_count": 64
        }
      ]
    },
    {
      "cell_type": "code",
      "source": [
        "if len(M) == 2:\n",
        "    print(\"linearly independant\")\n",
        "else:\n",
        "    print(\"linearly dependant\")"
      ],
      "metadata": {
        "colab": {
          "base_uri": "https://localhost:8080/"
        },
        "id": "2q1inO1YZ64k",
        "outputId": "d0b1fd57-c3c5-4240-c654-5da40e63dfca"
      },
      "execution_count": 67,
      "outputs": [
        {
          "output_type": "stream",
          "name": "stdout",
          "text": [
            "linearly independant\n"
          ]
        }
      ]
    },
    {
      "cell_type": "markdown",
      "source": [
        "<h2>Identify whether the two vectors A and B are orthogonal using the cosine similartity formula. You must provide the following in your solution.</h2>\n",
        "\n",
        "$$ A = \\begin{bmatrix} 13,20 \\end{bmatrix} $$\n",
        " $$ B =\\begin{bmatrix} -2,17 \\end{bmatrix} $$\n",
        "\n",
        "1. The inner product of A and B;\n",
        "\n",
        "2. The norm of A;\n",
        "\n",
        "3. The norm of B; and\n",
        "\n",
        "4. The angle between A and B represented by 0; \n"
      ],
      "metadata": {
        "id": "looGz13GPPI9"
      }
    },
    {
      "cell_type": "code",
      "source": [
        "\n",
        "\n",
        "a = np.array([13,20])\n",
        "b = np.array([-2,17])"
      ],
      "metadata": {
        "id": "sMfghhHxPOkk"
      },
      "execution_count": 43,
      "outputs": []
    },
    {
      "cell_type": "code",
      "source": [
        "inner = A@B\n",
        "inner"
      ],
      "metadata": {
        "colab": {
          "base_uri": "https://localhost:8080/"
        },
        "id": "87PjzjmXRu9G",
        "outputId": "42fb0531-def9-4a7b-e7d0-27a0c6226666"
      },
      "execution_count": 44,
      "outputs": [
        {
          "output_type": "execute_result",
          "data": {
            "text/plain": [
              "314"
            ]
          },
          "metadata": {},
          "execution_count": 44
        }
      ]
    },
    {
      "cell_type": "code",
      "source": [
        "np.linalg.norm(a)"
      ],
      "metadata": {
        "colab": {
          "base_uri": "https://localhost:8080/"
        },
        "id": "SHtCln1SSBHr",
        "outputId": "38b2028f-0477-414b-ba5f-f3d639472532"
      },
      "execution_count": 45,
      "outputs": [
        {
          "output_type": "execute_result",
          "data": {
            "text/plain": [
              "23.853720883753127"
            ]
          },
          "metadata": {},
          "execution_count": 45
        }
      ]
    },
    {
      "cell_type": "code",
      "source": [
        "np.linalg.norm(b)"
      ],
      "metadata": {
        "colab": {
          "base_uri": "https://localhost:8080/"
        },
        "id": "xbT22PKrVNDj",
        "outputId": "01a21f22-9932-4aa4-9745-16d288946c20"
      },
      "execution_count": 46,
      "outputs": [
        {
          "output_type": "execute_result",
          "data": {
            "text/plain": [
              "17.11724276862369"
            ]
          },
          "metadata": {},
          "execution_count": 46
        }
      ]
    },
    {
      "cell_type": "code",
      "source": [
        "norms = np.linalg.norm(a) * np.linalg.norm(b)\n",
        "cos = inner/norms\n",
        "rad = np.arccos(np.clip(cos, -1.0,1.0))\n",
        "degrees= np.rad2deg(rad)\n",
        "degrees"
      ],
      "metadata": {
        "colab": {
          "base_uri": "https://localhost:8080/"
        },
        "id": "ys8zGAeVVPLJ",
        "outputId": "c3a1f228-1082-4013-f7c8-56b91583d25d"
      },
      "execution_count": 47,
      "outputs": [
        {
          "output_type": "execute_result",
          "data": {
            "text/plain": [
              "39.733704363553585"
            ]
          },
          "metadata": {},
          "execution_count": 47
        }
      ]
    }
  ]
}